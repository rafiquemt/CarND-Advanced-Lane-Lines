{
 "cells": [
  {
   "cell_type": "markdown",
   "metadata": {
    "collapsed": true
   },
   "source": [
    "Testing out warping of images here"
   ]
  },
  {
   "cell_type": "code",
   "execution_count": 15,
   "metadata": {
    "collapsed": true
   },
   "outputs": [],
   "source": [
    "import glob\n",
    "import os.path\n",
    "import pickle\n",
    "\n",
    "import matplotlib.image as mpimg\n",
    "import matplotlib.pyplot as plt\n",
    "import numpy as np\n",
    "from moviepy.editor import VideoFileClip\n",
    "\n",
    "import cv2\n",
    "%matplotlib osx\n",
    "\n",
    "def get_calibration_data():\n",
    "    pickle_file = 'cal_data/cal_data.p'\n",
    "    print(\"Hello\")\n",
    "    if os.path.exists(pickle_file):\n",
    "        print(\"loading pickle file for calibration\", pickle_file)\n",
    "        x = pickle.load(open(pickle_file, \"rb\"))\n",
    "        mtx = x['mtx']\n",
    "        dist = x['dist']\n",
    "    else:\n",
    "        x, mtx, dist, x, x = calibrate_camera()\n",
    "        pickle.dump({'mtx': mtx, 'dist': dist}, open(pickle_file, 'wb'))\n",
    "    return mtx, dist"
   ]
  },
  {
   "cell_type": "markdown",
   "metadata": {},
   "source": [
    "# More stuff"
   ]
  },
  {
   "cell_type": "code",
   "execution_count": 13,
   "metadata": {
    "collapsed": true
   },
   "outputs": [],
   "source": [
    "def test_calibration(image, mtx, dist, folderPath='camera_cal'):\n",
    "    img = cv2.imread(folderPath + '/' + image)\n",
    "    undist = cv2.undistort(img, mtx, dist, None, mtx)\n",
    "    #cv2.imshow('undist', undist)\n",
    "    cv2.imwrite('output_images/calibrated_' + image, undist)\n",
    "    \n",
    "def undistort_frame(img, mtx, dist):\n",
    "    return cv2.undistort(img, mtx, dist, None, mtx)\n"
   ]
  },
  {
   "cell_type": "code",
   "execution_count": 16,
   "metadata": {
    "collapsed": false
   },
   "outputs": [
    {
     "name": "stdout",
     "output_type": "stream",
     "text": [
      "Hello\n",
      "loading pickle file for calibration cal_data/cal_data.p\n"
     ]
    }
   ],
   "source": [
    "def test_stuff():\n",
    "    img = cv2.imread(\"test_images/straight_lines2.jpg\")\n",
    "    mtx, dist = get_calibration_data()\n",
    "    undistorted = undistort_frame()\n",
    "    test_calibration('signs_vehicles_xygrad.png', mtx, dist, 'test_images')\n",
    "\n",
    "test_stuff()"
   ]
  },
  {
   "cell_type": "code",
   "execution_count": 10,
   "metadata": {
    "collapsed": true
   },
   "outputs": [],
   "source": [
    "cv2.destroyAllWindows()"
   ]
  },
  {
   "cell_type": "code",
   "execution_count": null,
   "metadata": {
    "collapsed": true
   },
   "outputs": [],
   "source": []
  }
 ],
 "metadata": {
  "kernelspec": {
   "display_name": "Python 3",
   "language": "python",
   "name": "python3"
  },
  "language_info": {
   "codemirror_mode": {
    "name": "ipython",
    "version": 3
   },
   "file_extension": ".py",
   "mimetype": "text/x-python",
   "name": "python",
   "nbconvert_exporter": "python",
   "pygments_lexer": "ipython3",
   "version": "3.5.2"
  },
  "widgets": {
   "state": {},
   "version": "1.1.2"
  }
 },
 "nbformat": 4,
 "nbformat_minor": 2
}
